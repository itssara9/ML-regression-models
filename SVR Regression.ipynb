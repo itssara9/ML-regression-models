{
  "nbformat": 4,
  "nbformat_minor": 0,
  "metadata": {
    "colab": {
      "provenance": []
    },
    "kernelspec": {
      "name": "python3",
      "display_name": "Python 3"
    },
    "language_info": {
      "name": "python"
    }
  },
  "cells": [
    {
      "cell_type": "markdown",
      "source": [
        "# Support Vector Regression (SVR)"
      ],
      "metadata": {
        "id": "fyZT5j_BkO3e"
      }
    },
    {
      "cell_type": "code",
      "execution_count": 92,
      "metadata": {
        "id": "1fnBDtaixWgf"
      },
      "outputs": [],
      "source": [
        "import pandas as pd\n",
        "import matplotlib.pyplot as plt\n",
        "from sklearn.model_selection import train_test_split\n",
        "from sklearn.preprocessing import OneHotEncoder, LabelEncoder\n",
        "from sklearn.preprocessing import StandardScaler\n",
        "from sklearn.svm import SVR\n",
        "import numpy as np"
      ]
    },
    {
      "cell_type": "code",
      "source": [
        "# Importing the dataset\n",
        "df = pd.read_csv('insurance_.csv')"
      ],
      "metadata": {
        "id": "SYIUMpqlyFLh"
      },
      "execution_count": 93,
      "outputs": []
    },
    {
      "cell_type": "code",
      "source": [
        "df.head()"
      ],
      "metadata": {
        "colab": {
          "base_uri": "https://localhost:8080/",
          "height": 206
        },
        "id": "KX4yWoOIyGFw",
        "outputId": "79557a54-bdb8-45c7-dd6c-a0bdbad2bd08"
      },
      "execution_count": 94,
      "outputs": [
        {
          "output_type": "execute_result",
          "data": {
            "text/plain": [
              "   age     sex     bmi  children smoker     region      charges\n",
              "0   19  female  27.900       0.0    yes  southwest  16884.92400\n",
              "1   18    male  33.770       1.0     no  southeast   1725.55230\n",
              "2   28    male  33.000       3.0     no  southeast   4449.46200\n",
              "3   33    male  22.705       0.0     no  northwest  21984.47061\n",
              "4   32    male  28.880       0.0     no  northwest   3866.85520"
            ],
            "text/html": [
              "\n",
              "  <div id=\"df-19e579d5-6576-40c6-bbd3-92048a4952b1\" class=\"colab-df-container\">\n",
              "    <div>\n",
              "<style scoped>\n",
              "    .dataframe tbody tr th:only-of-type {\n",
              "        vertical-align: middle;\n",
              "    }\n",
              "\n",
              "    .dataframe tbody tr th {\n",
              "        vertical-align: top;\n",
              "    }\n",
              "\n",
              "    .dataframe thead th {\n",
              "        text-align: right;\n",
              "    }\n",
              "</style>\n",
              "<table border=\"1\" class=\"dataframe\">\n",
              "  <thead>\n",
              "    <tr style=\"text-align: right;\">\n",
              "      <th></th>\n",
              "      <th>age</th>\n",
              "      <th>sex</th>\n",
              "      <th>bmi</th>\n",
              "      <th>children</th>\n",
              "      <th>smoker</th>\n",
              "      <th>region</th>\n",
              "      <th>charges</th>\n",
              "    </tr>\n",
              "  </thead>\n",
              "  <tbody>\n",
              "    <tr>\n",
              "      <th>0</th>\n",
              "      <td>19</td>\n",
              "      <td>female</td>\n",
              "      <td>27.900</td>\n",
              "      <td>0.0</td>\n",
              "      <td>yes</td>\n",
              "      <td>southwest</td>\n",
              "      <td>16884.92400</td>\n",
              "    </tr>\n",
              "    <tr>\n",
              "      <th>1</th>\n",
              "      <td>18</td>\n",
              "      <td>male</td>\n",
              "      <td>33.770</td>\n",
              "      <td>1.0</td>\n",
              "      <td>no</td>\n",
              "      <td>southeast</td>\n",
              "      <td>1725.55230</td>\n",
              "    </tr>\n",
              "    <tr>\n",
              "      <th>2</th>\n",
              "      <td>28</td>\n",
              "      <td>male</td>\n",
              "      <td>33.000</td>\n",
              "      <td>3.0</td>\n",
              "      <td>no</td>\n",
              "      <td>southeast</td>\n",
              "      <td>4449.46200</td>\n",
              "    </tr>\n",
              "    <tr>\n",
              "      <th>3</th>\n",
              "      <td>33</td>\n",
              "      <td>male</td>\n",
              "      <td>22.705</td>\n",
              "      <td>0.0</td>\n",
              "      <td>no</td>\n",
              "      <td>northwest</td>\n",
              "      <td>21984.47061</td>\n",
              "    </tr>\n",
              "    <tr>\n",
              "      <th>4</th>\n",
              "      <td>32</td>\n",
              "      <td>male</td>\n",
              "      <td>28.880</td>\n",
              "      <td>0.0</td>\n",
              "      <td>no</td>\n",
              "      <td>northwest</td>\n",
              "      <td>3866.85520</td>\n",
              "    </tr>\n",
              "  </tbody>\n",
              "</table>\n",
              "</div>\n",
              "    <div class=\"colab-df-buttons\">\n",
              "\n",
              "  <div class=\"colab-df-container\">\n",
              "    <button class=\"colab-df-convert\" onclick=\"convertToInteractive('df-19e579d5-6576-40c6-bbd3-92048a4952b1')\"\n",
              "            title=\"Convert this dataframe to an interactive table.\"\n",
              "            style=\"display:none;\">\n",
              "\n",
              "  <svg xmlns=\"http://www.w3.org/2000/svg\" height=\"24px\" viewBox=\"0 -960 960 960\">\n",
              "    <path d=\"M120-120v-720h720v720H120Zm60-500h600v-160H180v160Zm220 220h160v-160H400v160Zm0 220h160v-160H400v160ZM180-400h160v-160H180v160Zm440 0h160v-160H620v160ZM180-180h160v-160H180v160Zm440 0h160v-160H620v160Z\"/>\n",
              "  </svg>\n",
              "    </button>\n",
              "\n",
              "  <style>\n",
              "    .colab-df-container {\n",
              "      display:flex;\n",
              "      gap: 12px;\n",
              "    }\n",
              "\n",
              "    .colab-df-convert {\n",
              "      background-color: #E8F0FE;\n",
              "      border: none;\n",
              "      border-radius: 50%;\n",
              "      cursor: pointer;\n",
              "      display: none;\n",
              "      fill: #1967D2;\n",
              "      height: 32px;\n",
              "      padding: 0 0 0 0;\n",
              "      width: 32px;\n",
              "    }\n",
              "\n",
              "    .colab-df-convert:hover {\n",
              "      background-color: #E2EBFA;\n",
              "      box-shadow: 0px 1px 2px rgba(60, 64, 67, 0.3), 0px 1px 3px 1px rgba(60, 64, 67, 0.15);\n",
              "      fill: #174EA6;\n",
              "    }\n",
              "\n",
              "    .colab-df-buttons div {\n",
              "      margin-bottom: 4px;\n",
              "    }\n",
              "\n",
              "    [theme=dark] .colab-df-convert {\n",
              "      background-color: #3B4455;\n",
              "      fill: #D2E3FC;\n",
              "    }\n",
              "\n",
              "    [theme=dark] .colab-df-convert:hover {\n",
              "      background-color: #434B5C;\n",
              "      box-shadow: 0px 1px 3px 1px rgba(0, 0, 0, 0.15);\n",
              "      filter: drop-shadow(0px 1px 2px rgba(0, 0, 0, 0.3));\n",
              "      fill: #FFFFFF;\n",
              "    }\n",
              "  </style>\n",
              "\n",
              "    <script>\n",
              "      const buttonEl =\n",
              "        document.querySelector('#df-19e579d5-6576-40c6-bbd3-92048a4952b1 button.colab-df-convert');\n",
              "      buttonEl.style.display =\n",
              "        google.colab.kernel.accessAllowed ? 'block' : 'none';\n",
              "\n",
              "      async function convertToInteractive(key) {\n",
              "        const element = document.querySelector('#df-19e579d5-6576-40c6-bbd3-92048a4952b1');\n",
              "        const dataTable =\n",
              "          await google.colab.kernel.invokeFunction('convertToInteractive',\n",
              "                                                    [key], {});\n",
              "        if (!dataTable) return;\n",
              "\n",
              "        const docLinkHtml = 'Like what you see? Visit the ' +\n",
              "          '<a target=\"_blank\" href=https://colab.research.google.com/notebooks/data_table.ipynb>data table notebook</a>'\n",
              "          + ' to learn more about interactive tables.';\n",
              "        element.innerHTML = '';\n",
              "        dataTable['output_type'] = 'display_data';\n",
              "        await google.colab.output.renderOutput(dataTable, element);\n",
              "        const docLink = document.createElement('div');\n",
              "        docLink.innerHTML = docLinkHtml;\n",
              "        element.appendChild(docLink);\n",
              "      }\n",
              "    </script>\n",
              "  </div>\n",
              "\n",
              "\n",
              "<div id=\"df-31f8f2a2-675d-4971-9435-8496e6c2a44c\">\n",
              "  <button class=\"colab-df-quickchart\" onclick=\"quickchart('df-31f8f2a2-675d-4971-9435-8496e6c2a44c')\"\n",
              "            title=\"Suggest charts\"\n",
              "            style=\"display:none;\">\n",
              "\n",
              "<svg xmlns=\"http://www.w3.org/2000/svg\" height=\"24px\"viewBox=\"0 0 24 24\"\n",
              "     width=\"24px\">\n",
              "    <g>\n",
              "        <path d=\"M19 3H5c-1.1 0-2 .9-2 2v14c0 1.1.9 2 2 2h14c1.1 0 2-.9 2-2V5c0-1.1-.9-2-2-2zM9 17H7v-7h2v7zm4 0h-2V7h2v10zm4 0h-2v-4h2v4z\"/>\n",
              "    </g>\n",
              "</svg>\n",
              "  </button>\n",
              "\n",
              "<style>\n",
              "  .colab-df-quickchart {\n",
              "      --bg-color: #E8F0FE;\n",
              "      --fill-color: #1967D2;\n",
              "      --hover-bg-color: #E2EBFA;\n",
              "      --hover-fill-color: #174EA6;\n",
              "      --disabled-fill-color: #AAA;\n",
              "      --disabled-bg-color: #DDD;\n",
              "  }\n",
              "\n",
              "  [theme=dark] .colab-df-quickchart {\n",
              "      --bg-color: #3B4455;\n",
              "      --fill-color: #D2E3FC;\n",
              "      --hover-bg-color: #434B5C;\n",
              "      --hover-fill-color: #FFFFFF;\n",
              "      --disabled-bg-color: #3B4455;\n",
              "      --disabled-fill-color: #666;\n",
              "  }\n",
              "\n",
              "  .colab-df-quickchart {\n",
              "    background-color: var(--bg-color);\n",
              "    border: none;\n",
              "    border-radius: 50%;\n",
              "    cursor: pointer;\n",
              "    display: none;\n",
              "    fill: var(--fill-color);\n",
              "    height: 32px;\n",
              "    padding: 0;\n",
              "    width: 32px;\n",
              "  }\n",
              "\n",
              "  .colab-df-quickchart:hover {\n",
              "    background-color: var(--hover-bg-color);\n",
              "    box-shadow: 0 1px 2px rgba(60, 64, 67, 0.3), 0 1px 3px 1px rgba(60, 64, 67, 0.15);\n",
              "    fill: var(--button-hover-fill-color);\n",
              "  }\n",
              "\n",
              "  .colab-df-quickchart-complete:disabled,\n",
              "  .colab-df-quickchart-complete:disabled:hover {\n",
              "    background-color: var(--disabled-bg-color);\n",
              "    fill: var(--disabled-fill-color);\n",
              "    box-shadow: none;\n",
              "  }\n",
              "\n",
              "  .colab-df-spinner {\n",
              "    border: 2px solid var(--fill-color);\n",
              "    border-color: transparent;\n",
              "    border-bottom-color: var(--fill-color);\n",
              "    animation:\n",
              "      spin 1s steps(1) infinite;\n",
              "  }\n",
              "\n",
              "  @keyframes spin {\n",
              "    0% {\n",
              "      border-color: transparent;\n",
              "      border-bottom-color: var(--fill-color);\n",
              "      border-left-color: var(--fill-color);\n",
              "    }\n",
              "    20% {\n",
              "      border-color: transparent;\n",
              "      border-left-color: var(--fill-color);\n",
              "      border-top-color: var(--fill-color);\n",
              "    }\n",
              "    30% {\n",
              "      border-color: transparent;\n",
              "      border-left-color: var(--fill-color);\n",
              "      border-top-color: var(--fill-color);\n",
              "      border-right-color: var(--fill-color);\n",
              "    }\n",
              "    40% {\n",
              "      border-color: transparent;\n",
              "      border-right-color: var(--fill-color);\n",
              "      border-top-color: var(--fill-color);\n",
              "    }\n",
              "    60% {\n",
              "      border-color: transparent;\n",
              "      border-right-color: var(--fill-color);\n",
              "    }\n",
              "    80% {\n",
              "      border-color: transparent;\n",
              "      border-right-color: var(--fill-color);\n",
              "      border-bottom-color: var(--fill-color);\n",
              "    }\n",
              "    90% {\n",
              "      border-color: transparent;\n",
              "      border-bottom-color: var(--fill-color);\n",
              "    }\n",
              "  }\n",
              "</style>\n",
              "\n",
              "  <script>\n",
              "    async function quickchart(key) {\n",
              "      const quickchartButtonEl =\n",
              "        document.querySelector('#' + key + ' button');\n",
              "      quickchartButtonEl.disabled = true;  // To prevent multiple clicks.\n",
              "      quickchartButtonEl.classList.add('colab-df-spinner');\n",
              "      try {\n",
              "        const charts = await google.colab.kernel.invokeFunction(\n",
              "            'suggestCharts', [key], {});\n",
              "      } catch (error) {\n",
              "        console.error('Error during call to suggestCharts:', error);\n",
              "      }\n",
              "      quickchartButtonEl.classList.remove('colab-df-spinner');\n",
              "      quickchartButtonEl.classList.add('colab-df-quickchart-complete');\n",
              "    }\n",
              "    (() => {\n",
              "      let quickchartButtonEl =\n",
              "        document.querySelector('#df-31f8f2a2-675d-4971-9435-8496e6c2a44c button');\n",
              "      quickchartButtonEl.style.display =\n",
              "        google.colab.kernel.accessAllowed ? 'block' : 'none';\n",
              "    })();\n",
              "  </script>\n",
              "</div>\n",
              "\n",
              "    </div>\n",
              "  </div>\n"
            ],
            "application/vnd.google.colaboratory.intrinsic+json": {
              "type": "dataframe",
              "variable_name": "df",
              "summary": "{\n  \"name\": \"df\",\n  \"rows\": 1338,\n  \"fields\": [\n    {\n      \"column\": \"age\",\n      \"properties\": {\n        \"dtype\": \"number\",\n        \"std\": 14,\n        \"min\": 18,\n        \"max\": 64,\n        \"num_unique_values\": 47,\n        \"samples\": [\n          21,\n          45,\n          36\n        ],\n        \"semantic_type\": \"\",\n        \"description\": \"\"\n      }\n    },\n    {\n      \"column\": \"sex\",\n      \"properties\": {\n        \"dtype\": \"category\",\n        \"num_unique_values\": 2,\n        \"samples\": [\n          \"male\",\n          \"female\"\n        ],\n        \"semantic_type\": \"\",\n        \"description\": \"\"\n      }\n    },\n    {\n      \"column\": \"bmi\",\n      \"properties\": {\n        \"dtype\": \"number\",\n        \"std\": 6.096362597405151,\n        \"min\": 15.96,\n        \"max\": 53.13,\n        \"num_unique_values\": 547,\n        \"samples\": [\n          33.88,\n          37.62\n        ],\n        \"semantic_type\": \"\",\n        \"description\": \"\"\n      }\n    },\n    {\n      \"column\": \"children\",\n      \"properties\": {\n        \"dtype\": \"number\",\n        \"std\": 1.2059410147936183,\n        \"min\": 0.0,\n        \"max\": 5.0,\n        \"num_unique_values\": 6,\n        \"samples\": [\n          0.0,\n          1.0\n        ],\n        \"semantic_type\": \"\",\n        \"description\": \"\"\n      }\n    },\n    {\n      \"column\": \"smoker\",\n      \"properties\": {\n        \"dtype\": \"category\",\n        \"num_unique_values\": 2,\n        \"samples\": [\n          \"no\",\n          \"yes\"\n        ],\n        \"semantic_type\": \"\",\n        \"description\": \"\"\n      }\n    },\n    {\n      \"column\": \"region\",\n      \"properties\": {\n        \"dtype\": \"category\",\n        \"num_unique_values\": 4,\n        \"samples\": [\n          \"southeast\",\n          \"northeast\"\n        ],\n        \"semantic_type\": \"\",\n        \"description\": \"\"\n      }\n    },\n    {\n      \"column\": \"charges\",\n      \"properties\": {\n        \"dtype\": \"number\",\n        \"std\": 12122.341930125465,\n        \"min\": 1121.8739,\n        \"max\": 63770.42801,\n        \"num_unique_values\": 1333,\n        \"samples\": [\n          4661.28635,\n          8978.1851\n        ],\n        \"semantic_type\": \"\",\n        \"description\": \"\"\n      }\n    }\n  ]\n}"
            }
          },
          "metadata": {},
          "execution_count": 94
        }
      ]
    },
    {
      "cell_type": "code",
      "source": [
        "df.isnull().sum()"
      ],
      "metadata": {
        "colab": {
          "base_uri": "https://localhost:8080/"
        },
        "id": "rZdfTUtYyGAD",
        "outputId": "6908dcf1-a703-4c11-bf09-d87f2ea233f9"
      },
      "execution_count": 95,
      "outputs": [
        {
          "output_type": "execute_result",
          "data": {
            "text/plain": [
              "age         0\n",
              "sex         0\n",
              "bmi         3\n",
              "children    1\n",
              "smoker      0\n",
              "region      0\n",
              "charges     4\n",
              "dtype: int64"
            ]
          },
          "metadata": {},
          "execution_count": 95
        }
      ]
    },
    {
      "cell_type": "code",
      "source": [
        "df.info()"
      ],
      "metadata": {
        "colab": {
          "base_uri": "https://localhost:8080/"
        },
        "id": "4DrUAHr7yF9r",
        "outputId": "90c49109-a72a-429f-8288-f12077a7d6f6"
      },
      "execution_count": 96,
      "outputs": [
        {
          "output_type": "stream",
          "name": "stdout",
          "text": [
            "<class 'pandas.core.frame.DataFrame'>\n",
            "RangeIndex: 1338 entries, 0 to 1337\n",
            "Data columns (total 7 columns):\n",
            " #   Column    Non-Null Count  Dtype  \n",
            "---  ------    --------------  -----  \n",
            " 0   age       1338 non-null   int64  \n",
            " 1   sex       1338 non-null   object \n",
            " 2   bmi       1335 non-null   float64\n",
            " 3   children  1337 non-null   float64\n",
            " 4   smoker    1338 non-null   object \n",
            " 5   region    1338 non-null   object \n",
            " 6   charges   1334 non-null   float64\n",
            "dtypes: float64(3), int64(1), object(3)\n",
            "memory usage: 73.3+ KB\n"
          ]
        }
      ]
    },
    {
      "cell_type": "code",
      "source": [
        "# Handling missing values\n",
        "numerical_cols = df.select_dtypes(include=[\"int64\", \"float64\"]).columns\n",
        "categorical_cols = df.select_dtypes(include=\"object\").columns"
      ],
      "metadata": {
        "id": "zYiRF2LYY4ca"
      },
      "execution_count": 97,
      "outputs": []
    },
    {
      "cell_type": "code",
      "source": [
        "df[numerical_cols] = df[numerical_cols].fillna(df[numerical_cols].mean())\n",
        "df[categorical_cols] = df[categorical_cols].fillna(df[categorical_cols].mode())"
      ],
      "metadata": {
        "id": "qnOJFxsFYcOA"
      },
      "execution_count": 98,
      "outputs": []
    },
    {
      "cell_type": "code",
      "source": [
        "# Converting object columns to numerical using OneHotEncoder\n",
        "encoder = OneHotEncoder()\n",
        "encoded_cols = encoder.fit_transform(df[categorical_cols]).toarray()"
      ],
      "metadata": {
        "id": "NOD06JxtZDoO"
      },
      "execution_count": 99,
      "outputs": []
    },
    {
      "cell_type": "code",
      "source": [
        "feature_names = encoder.get_feature_names_out(categorical_cols)"
      ],
      "metadata": {
        "id": "ahuc0KcoZOZ0"
      },
      "execution_count": 100,
      "outputs": []
    },
    {
      "cell_type": "code",
      "source": [
        "df = pd.concat([df[numerical_cols], pd.DataFrame(encoded_cols, columns=feature_names)], axis=1)"
      ],
      "metadata": {
        "id": "YY5x7QDBZTn8"
      },
      "execution_count": 101,
      "outputs": []
    },
    {
      "cell_type": "code",
      "source": [
        "x_train, x_test, y_train, y_test = train_test_split(x,y, test_size = 0.20, random_state= 1)"
      ],
      "metadata": {
        "id": "keNmocFl22St"
      },
      "execution_count": 102,
      "outputs": []
    },
    {
      "cell_type": "code",
      "source": [
        "x"
      ],
      "metadata": {
        "colab": {
          "base_uri": "https://localhost:8080/"
        },
        "id": "Jzdh9HZo0uNH",
        "outputId": "c198502e-5fa6-48a0-92c3-e738be008451"
      },
      "execution_count": 103,
      "outputs": [
        {
          "output_type": "execute_result",
          "data": {
            "text/plain": [
              "array([[-1.01, -0.45, -0.91,  1.97],\n",
              "       [ 0.99,  0.51, -0.08, -0.51],\n",
              "       [ 0.99,  0.39,  1.58, -0.51],\n",
              "       ...,\n",
              "       [-1.01,  1.02, -0.91, -0.51],\n",
              "       [-1.01, -0.8 , -0.91, -0.51],\n",
              "       [-1.01, -0.26, -0.91,  1.97]])"
            ]
          },
          "metadata": {},
          "execution_count": 103
        }
      ]
    },
    {
      "cell_type": "code",
      "source": [
        "y"
      ],
      "metadata": {
        "colab": {
          "base_uri": "https://localhost:8080/"
        },
        "id": "4uk9ndVP1W4c",
        "outputId": "b51ac798-6255-4b14-f4e4-4198804bbaa0"
      },
      "execution_count": 104,
      "outputs": [
        {
          "output_type": "execute_result",
          "data": {
            "text/plain": [
              "array([[ 0.3 ],\n",
              "       [-0.96],\n",
              "       [-0.73],\n",
              "       ...,\n",
              "       [-0.96],\n",
              "       [-0.93],\n",
              "       [ 1.31]])"
            ]
          },
          "metadata": {},
          "execution_count": 104
        }
      ]
    },
    {
      "cell_type": "code",
      "source": [
        "y = y.reshape(len(y),1)"
      ],
      "metadata": {
        "id": "Wr0yilds1i5I"
      },
      "execution_count": 105,
      "outputs": []
    },
    {
      "cell_type": "code",
      "source": [
        "y"
      ],
      "metadata": {
        "colab": {
          "base_uri": "https://localhost:8080/"
        },
        "id": "tQjoz5iw1io7",
        "outputId": "db7cf0fe-0ef2-49f9-87f6-822a708e7dcc"
      },
      "execution_count": 106,
      "outputs": [
        {
          "output_type": "execute_result",
          "data": {
            "text/plain": [
              "array([[ 0.3 ],\n",
              "       [-0.96],\n",
              "       [-0.73],\n",
              "       ...,\n",
              "       [-0.96],\n",
              "       [-0.93],\n",
              "       [ 1.31]])"
            ]
          },
          "metadata": {},
          "execution_count": 106
        }
      ]
    },
    {
      "cell_type": "code",
      "source": [
        "# Feature Scaling\n",
        "sc_x = StandardScaler()\n",
        "sc_y = StandardScaler()\n",
        "x = sc_x.fit_transform(x)\n",
        "y = sc_y.fit_transform(y)"
      ],
      "metadata": {
        "id": "HnxQf1MG1ilX"
      },
      "execution_count": 107,
      "outputs": []
    },
    {
      "cell_type": "code",
      "source": [
        "print(\"sc_x.fit_transform(x):\\n\", sc_x.fit_transform(x))\n",
        "print(\"\\nsc_y.fit_transform(y):\\n\", sc_y.fit_transform(y))"
      ],
      "metadata": {
        "colab": {
          "base_uri": "https://localhost:8080/"
        },
        "id": "jATCVMKA2ABk",
        "outputId": "094fa990-148b-4f23-f0bb-605c789ed452"
      },
      "execution_count": 108,
      "outputs": [
        {
          "output_type": "stream",
          "name": "stdout",
          "text": [
            "sc_x.fit_transform(x):\n",
            " [[-1.01 -0.45 -0.91  1.97]\n",
            " [ 0.99  0.51 -0.08 -0.51]\n",
            " [ 0.99  0.39  1.58 -0.51]\n",
            " ...\n",
            " [-1.01  1.02 -0.91 -0.51]\n",
            " [-1.01 -0.8  -0.91 -0.51]\n",
            " [-1.01 -0.26 -0.91  1.97]]\n",
            "\n",
            "sc_y.fit_transform(y):\n",
            " [[ 0.3 ]\n",
            " [-0.96]\n",
            " [-0.73]\n",
            " ...\n",
            " [-0.96]\n",
            " [-0.93]\n",
            " [ 1.31]]\n"
          ]
        }
      ]
    },
    {
      "cell_type": "code",
      "source": [
        "# Training the SVR model on the whole dataset\n",
        "regressor = SVR(kernel = 'rbf')\n",
        "regressor.fit(x, y)"
      ],
      "metadata": {
        "colab": {
          "base_uri": "https://localhost:8080/",
          "height": 130
        },
        "id": "SUOyChgs22O_",
        "outputId": "44525096-9391-4473-e214-9c4db699f95f"
      },
      "execution_count": 109,
      "outputs": [
        {
          "output_type": "stream",
          "name": "stderr",
          "text": [
            "/usr/local/lib/python3.10/dist-packages/sklearn/utils/validation.py:1143: DataConversionWarning: A column-vector y was passed when a 1d array was expected. Please change the shape of y to (n_samples, ), for example using ravel().\n",
            "  y = column_or_1d(y, warn=True)\n"
          ]
        },
        {
          "output_type": "execute_result",
          "data": {
            "text/plain": [
              "SVR()"
            ],
            "text/html": [
              "<style>#sk-container-id-5 {color: black;background-color: white;}#sk-container-id-5 pre{padding: 0;}#sk-container-id-5 div.sk-toggleable {background-color: white;}#sk-container-id-5 label.sk-toggleable__label {cursor: pointer;display: block;width: 100%;margin-bottom: 0;padding: 0.3em;box-sizing: border-box;text-align: center;}#sk-container-id-5 label.sk-toggleable__label-arrow:before {content: \"▸\";float: left;margin-right: 0.25em;color: #696969;}#sk-container-id-5 label.sk-toggleable__label-arrow:hover:before {color: black;}#sk-container-id-5 div.sk-estimator:hover label.sk-toggleable__label-arrow:before {color: black;}#sk-container-id-5 div.sk-toggleable__content {max-height: 0;max-width: 0;overflow: hidden;text-align: left;background-color: #f0f8ff;}#sk-container-id-5 div.sk-toggleable__content pre {margin: 0.2em;color: black;border-radius: 0.25em;background-color: #f0f8ff;}#sk-container-id-5 input.sk-toggleable__control:checked~div.sk-toggleable__content {max-height: 200px;max-width: 100%;overflow: auto;}#sk-container-id-5 input.sk-toggleable__control:checked~label.sk-toggleable__label-arrow:before {content: \"▾\";}#sk-container-id-5 div.sk-estimator input.sk-toggleable__control:checked~label.sk-toggleable__label {background-color: #d4ebff;}#sk-container-id-5 div.sk-label input.sk-toggleable__control:checked~label.sk-toggleable__label {background-color: #d4ebff;}#sk-container-id-5 input.sk-hidden--visually {border: 0;clip: rect(1px 1px 1px 1px);clip: rect(1px, 1px, 1px, 1px);height: 1px;margin: -1px;overflow: hidden;padding: 0;position: absolute;width: 1px;}#sk-container-id-5 div.sk-estimator {font-family: monospace;background-color: #f0f8ff;border: 1px dotted black;border-radius: 0.25em;box-sizing: border-box;margin-bottom: 0.5em;}#sk-container-id-5 div.sk-estimator:hover {background-color: #d4ebff;}#sk-container-id-5 div.sk-parallel-item::after {content: \"\";width: 100%;border-bottom: 1px solid gray;flex-grow: 1;}#sk-container-id-5 div.sk-label:hover label.sk-toggleable__label {background-color: #d4ebff;}#sk-container-id-5 div.sk-serial::before {content: \"\";position: absolute;border-left: 1px solid gray;box-sizing: border-box;top: 0;bottom: 0;left: 50%;z-index: 0;}#sk-container-id-5 div.sk-serial {display: flex;flex-direction: column;align-items: center;background-color: white;padding-right: 0.2em;padding-left: 0.2em;position: relative;}#sk-container-id-5 div.sk-item {position: relative;z-index: 1;}#sk-container-id-5 div.sk-parallel {display: flex;align-items: stretch;justify-content: center;background-color: white;position: relative;}#sk-container-id-5 div.sk-item::before, #sk-container-id-5 div.sk-parallel-item::before {content: \"\";position: absolute;border-left: 1px solid gray;box-sizing: border-box;top: 0;bottom: 0;left: 50%;z-index: -1;}#sk-container-id-5 div.sk-parallel-item {display: flex;flex-direction: column;z-index: 1;position: relative;background-color: white;}#sk-container-id-5 div.sk-parallel-item:first-child::after {align-self: flex-end;width: 50%;}#sk-container-id-5 div.sk-parallel-item:last-child::after {align-self: flex-start;width: 50%;}#sk-container-id-5 div.sk-parallel-item:only-child::after {width: 0;}#sk-container-id-5 div.sk-dashed-wrapped {border: 1px dashed gray;margin: 0 0.4em 0.5em 0.4em;box-sizing: border-box;padding-bottom: 0.4em;background-color: white;}#sk-container-id-5 div.sk-label label {font-family: monospace;font-weight: bold;display: inline-block;line-height: 1.2em;}#sk-container-id-5 div.sk-label-container {text-align: center;}#sk-container-id-5 div.sk-container {/* jupyter's `normalize.less` sets `[hidden] { display: none; }` but bootstrap.min.css set `[hidden] { display: none !important; }` so we also need the `!important` here to be able to override the default hidden behavior on the sphinx rendered scikit-learn.org. See: https://github.com/scikit-learn/scikit-learn/issues/21755 */display: inline-block !important;position: relative;}#sk-container-id-5 div.sk-text-repr-fallback {display: none;}</style><div id=\"sk-container-id-5\" class=\"sk-top-container\"><div class=\"sk-text-repr-fallback\"><pre>SVR()</pre><b>In a Jupyter environment, please rerun this cell to show the HTML representation or trust the notebook. <br />On GitHub, the HTML representation is unable to render, please try loading this page with nbviewer.org.</b></div><div class=\"sk-container\" hidden><div class=\"sk-item\"><div class=\"sk-estimator sk-toggleable\"><input class=\"sk-toggleable__control sk-hidden--visually\" id=\"sk-estimator-id-5\" type=\"checkbox\" checked><label for=\"sk-estimator-id-5\" class=\"sk-toggleable__label sk-toggleable__label-arrow\">SVR</label><div class=\"sk-toggleable__content\"><pre>SVR()</pre></div></div></div></div></div>"
            ]
          },
          "metadata": {},
          "execution_count": 109
        }
      ]
    },
    {
      "cell_type": "code",
      "source": [
        "# Predicting a new result\n",
        "# Create a 2D array with 4 features\n",
        "input_data = np.array([[6.5, 3.2, 4.1, 1.3]])\n",
        "# Predict using the regressor\n",
        "predicted_value = regressor.predict(sc_x.transform(input_data))\n",
        "# Inverse transform the predicted value\n",
        "inverse_transformed_value = sc_y.inverse_transform(predicted_value.reshape(-1, 1))\n",
        "print(inverse_transformed_value)"
      ],
      "metadata": {
        "colab": {
          "base_uri": "https://localhost:8080/"
        },
        "id": "wv1UP9QpW0_V",
        "outputId": "92c63ba2-1c3a-4621-bc41-81cd81f5e6af"
      },
      "execution_count": 110,
      "outputs": [
        {
          "output_type": "stream",
          "name": "stdout",
          "text": [
            "[[0.33]]\n"
          ]
        }
      ]
    },
    {
      "cell_type": "code",
      "source": [
        "# Predicting the Test set results\n",
        "y_pred = sc_y.inverse_transform(regressor.predict(sc_x.transform(x_test)).reshape(-1,1))\n",
        "np.set_printoptions(precision=2)\n",
        "print(np.concatenate((y_pred.reshape(len(y_pred),1), y_test.reshape(len(y_test),1)),1))"
      ],
      "metadata": {
        "colab": {
          "base_uri": "https://localhost:8080/"
        },
        "id": "YrXo7CI9LoA6",
        "outputId": "4e98abde-f784-4cb1-a42f-633a795d4ec0"
      },
      "execution_count": 111,
      "outputs": [
        {
          "output_type": "stream",
          "name": "stdout",
          "text": [
            "[[-3.94e-01 -9.62e-01]\n",
            " [-5.38e-01 -1.60e-01]\n",
            " [-3.52e-01 -3.71e-01]\n",
            " [-3.04e-01 -2.40e-01]\n",
            " [-6.20e-01 -9.24e-01]\n",
            " [ 2.21e+00  2.10e+00]\n",
            " [-4.29e-01 -3.29e-01]\n",
            " [-5.66e-01 -1.34e-01]\n",
            " [-7.22e-01 -8.44e-01]\n",
            " [ 7.13e-01  5.17e-01]\n",
            " [-6.02e-01 -5.41e-02]\n",
            " [-2.83e-01 -1.44e-01]\n",
            " [-4.65e-01 -5.74e-01]\n",
            " [-5.09e-01 -5.15e-01]\n",
            " [-4.31e-01 -1.00e+00]\n",
            " [-4.81e-01 -3.57e-01]\n",
            " [-7.99e-01  7.19e-01]\n",
            " [-2.85e-01 -5.68e-01]\n",
            " [-4.60e-01  1.24e+00]\n",
            " [-5.29e-01  1.47e-02]\n",
            " [-4.74e-01 -2.94e-01]\n",
            " [ 2.39e+00  2.29e+00]\n",
            " [-5.73e-01 -4.35e-01]\n",
            " [-7.06e-01 -4.00e-01]\n",
            " [-5.53e-01 -9.16e-01]\n",
            " [-5.73e-01 -5.47e-01]\n",
            " [-4.66e-01 -3.87e-01]\n",
            " [-5.28e-01 -4.13e-01]\n",
            " [-3.57e-01 -6.54e-01]\n",
            " [-7.37e-01 -7.97e-01]\n",
            " [-4.60e-01 -1.33e-01]\n",
            " [-4.84e-01 -1.28e-01]\n",
            " [ 5.41e-01  9.58e-01]\n",
            " [ 1.68e+00  1.69e+00]\n",
            " [ 9.15e-01  9.01e-01]\n",
            " [-7.64e-01 -2.83e-01]\n",
            " [ 2.12e+00  1.95e+00]\n",
            " [ 4.75e-01  3.85e-01]\n",
            " [-5.18e-01 -1.18e-01]\n",
            " [ 1.63e+00  2.19e+00]\n",
            " [-3.57e-01 -7.38e-01]\n",
            " [-4.32e-01 -1.27e-01]\n",
            " [-2.84e-01  5.34e-01]\n",
            " [-4.50e-01 -7.75e-02]\n",
            " [-4.45e-01 -6.90e-01]\n",
            " [-6.45e-01  1.40e+00]\n",
            " [-4.73e-01  1.19e+00]\n",
            " [ 1.64e+00  1.77e+00]\n",
            " [-6.86e-01 -3.01e-01]\n",
            " [-2.43e-01  9.17e-02]\n",
            " [-5.37e-01 -6.01e-02]\n",
            " [-3.71e-01 -1.16e-01]\n",
            " [-7.79e-01 -9.03e-01]\n",
            " [-3.12e-01 -3.46e-01]\n",
            " [ 9.13e-01  3.22e-01]\n",
            " [-4.30e-01 -7.68e-01]\n",
            " [ 1.96e+00  2.29e+00]\n",
            " [-5.20e-01 -5.29e-02]\n",
            " [-4.32e-01  7.53e-01]\n",
            " [-2.74e-01 -1.00e+00]\n",
            " [-5.20e-01 -8.20e-01]\n",
            " [-4.63e-01 -1.17e-02]\n",
            " [ 1.20e+00  4.17e-01]\n",
            " [-5.70e-01 -8.76e-01]\n",
            " [-3.53e-01 -4.49e-02]\n",
            " [-5.24e-01 -3.74e-01]\n",
            " [-4.44e-01 -2.50e-01]\n",
            " [-5.66e-01  7.36e-01]\n",
            " [-5.56e-01 -8.74e-01]\n",
            " [ 2.07e-01  1.06e-01]\n",
            " [ 2.22e+00  3.86e+00]\n",
            " [ 2.76e+00  3.74e+00]\n",
            " [-5.63e-01 -9.54e-01]\n",
            " [-3.34e-01 -6.65e-02]\n",
            " [-5.95e-01  5.59e-03]\n",
            " [ 2.24e+00  2.29e+00]\n",
            " [-5.79e-01 -8.67e-01]\n",
            " [-6.66e-01 -8.61e-01]\n",
            " [-5.94e-01 -1.83e-01]\n",
            " [-3.99e-01 -2.31e-01]\n",
            " [-7.36e-01 -8.36e-01]\n",
            " [-3.56e-01 -8.39e-02]\n",
            " [-5.54e-01 -1.94e-01]\n",
            " [-6.21e-01 -9.34e-01]\n",
            " [ 1.92e+00  2.14e+00]\n",
            " [ 2.59e+00  2.38e+00]\n",
            " [-5.47e-01 -5.16e-01]\n",
            " [ 2.62e+00  2.72e+00]\n",
            " [-3.56e-01 -2.41e-01]\n",
            " [-3.57e-01 -4.57e-01]\n",
            " [ 1.00e+00  5.74e-01]\n",
            " [ 6.64e-01  8.94e-01]\n",
            " [-3.32e-01  5.25e-02]\n",
            " [-4.79e-01 -3.65e-01]\n",
            " [-8.01e-01 -9.63e-01]\n",
            " [-6.14e-01 -3.14e-01]\n",
            " [-5.40e-01 -2.83e-01]\n",
            " [-3.62e-01 -8.42e-02]\n",
            " [-5.19e-01 -8.67e-02]\n",
            " [-4.48e-01 -5.69e-01]\n",
            " [-4.46e-01 -1.59e-01]\n",
            " [ 4.31e-01  2.09e-01]\n",
            " [ 5.15e-01  4.11e-01]\n",
            " [ 2.07e+00  1.78e+00]\n",
            " [ 3.13e-01  1.14e+00]\n",
            " [ 1.06e+00  3.93e-01]\n",
            " [-6.00e-01 -9.54e-01]\n",
            " [-5.55e-01 -4.83e-01]\n",
            " [-4.61e-01 -9.14e-01]\n",
            " [-5.55e-01 -1.65e-01]\n",
            " [-5.73e-01 -7.33e-01]\n",
            " [-3.70e-01 -7.69e-01]\n",
            " [-7.44e-01 -9.63e-01]\n",
            " [-2.85e-01  1.88e-01]\n",
            " [-5.83e-01 -5.58e-02]\n",
            " [-6.41e-01 -9.94e-01]\n",
            " [-2.84e-01 -5.47e-01]\n",
            " [-5.96e-01  8.02e-02]\n",
            " [-1.39e-01  5.13e-01]\n",
            " [-5.38e-01 -9.11e-01]\n",
            " [-5.91e-01 -3.60e-01]\n",
            " [-2.08e-01 -2.11e-01]\n",
            " [-4.93e-01 -6.04e-01]\n",
            " [-8.07e-01 -5.07e-01]\n",
            " [ 1.84e+00  2.52e+00]\n",
            " [-2.98e-01 -3.08e-01]\n",
            " [-3.18e-01 -1.96e-02]\n",
            " [ 5.18e-01  5.02e-01]\n",
            " [ 2.71e+00  2.53e+00]\n",
            " [-4.28e-01 -4.58e-01]\n",
            " [ 2.27e+00  1.90e+00]\n",
            " [-6.43e-01 -9.47e-01]\n",
            " [-3.83e-01 -5.07e-01]\n",
            " [ 2.33e+00  2.07e+00]\n",
            " [-6.76e-01  9.35e-01]\n",
            " [-6.52e-01 -9.55e-01]\n",
            " [-7.34e-01 -9.63e-01]\n",
            " [-5.19e-01 -9.63e-01]\n",
            " [-6.83e-01 -2.72e-01]\n",
            " [-5.19e-01 -4.42e-01]\n",
            " [-5.39e-01  6.27e-02]\n",
            " [-2.98e-01 -6.07e-01]\n",
            " [ 6.93e-01  4.70e-01]\n",
            " [-5.19e-01  8.51e-02]\n",
            " [-3.61e-01  2.67e-02]\n",
            " [-6.75e-01 -2.22e-01]\n",
            " [-5.64e-01 -9.56e-01]\n",
            " [-2.80e-01 -4.41e-01]\n",
            " [-4.74e-01 -9.55e-01]\n",
            " [-4.51e-01 -5.45e-01]\n",
            " [-4.43e-01 -5.07e-01]\n",
            " [-4.77e-01 -7.77e-01]\n",
            " [-3.62e-01  1.67e+00]\n",
            " [-4.78e-01 -1.16e-01]\n",
            " [-2.93e-01 -4.53e-01]\n",
            " [-6.97e-01 -6.05e-01]\n",
            " [-5.24e-01 -2.74e-01]\n",
            " [-5.77e-01 -2.75e-01]\n",
            " [-5.24e-01 -3.17e-01]\n",
            " [-4.32e-01 -9.47e-01]\n",
            " [-5.87e-01 -7.92e-01]\n",
            " [ 2.54e+00  3.00e+00]\n",
            " [-5.29e-01 -1.11e-01]\n",
            " [-5.58e-01 -8.58e-01]\n",
            " [-2.83e-01 -5.91e-01]\n",
            " [-3.56e-01 -9.71e-01]\n",
            " [ 2.27e+00  2.10e+00]\n",
            " [-5.66e-01 -2.35e-01]\n",
            " [-5.78e-01 -1.83e-01]\n",
            " [-5.73e-01 -6.46e-01]\n",
            " [-3.70e-01 -6.72e-01]\n",
            " [-5.21e-01 -8.04e-01]\n",
            " [ 2.62e-01  7.54e-01]\n",
            " [ 3.66e-01  1.02e+00]\n",
            " [-6.40e-01 -8.21e-01]\n",
            " [-5.25e-01 -5.56e-01]\n",
            " [-4.74e-01 -8.98e-01]\n",
            " [-2.79e-01  1.08e-01]\n",
            " [-6.93e-01 -7.89e-01]\n",
            " [-3.66e-01 -6.15e-01]\n",
            " [-6.09e-01 -4.57e-02]\n",
            " [-6.31e-01  2.74e-02]\n",
            " [-5.54e-01 -3.55e-01]\n",
            " [-4.71e-01 -4.66e-01]\n",
            " [-5.95e-01 -8.01e-01]\n",
            " [ 1.19e+00  4.10e-01]\n",
            " [-5.71e-01 -9.20e-01]\n",
            " [-4.01e-01 -3.90e-01]\n",
            " [-8.47e-01 -4.76e-01]\n",
            " [-4.40e-01 -3.36e-01]\n",
            " [-4.65e-01  6.90e-02]\n",
            " [ 2.70e+00  2.81e+00]\n",
            " [-8.40e-01 -8.28e-01]\n",
            " [-5.58e-01 -8.74e-01]\n",
            " [-5.68e-01 -5.25e-01]\n",
            " [-6.52e-01 -3.32e-01]\n",
            " [-2.42e-01 -4.99e-01]\n",
            " [-5.20e-01 -9.21e-01]\n",
            " [-5.02e-01 -1.46e-01]\n",
            " [-5.18e-01 -4.17e-01]\n",
            " [-4.91e-01 -5.78e-01]\n",
            " [-3.60e-01 -4.89e-01]\n",
            " [-3.75e-01 -9.84e-02]\n",
            " [-4.46e-01  8.49e-01]\n",
            " [-4.84e-01 -5.64e-01]\n",
            " [-5.82e-01 -9.64e-01]\n",
            " [-4.93e-01 -5.52e-01]\n",
            " [-5.36e-01 -5.16e-01]\n",
            " [-2.89e-01 -9.34e-01]\n",
            " [-5.65e-01 -1.51e-01]\n",
            " [-5.72e-01 -7.56e-01]\n",
            " [ 3.95e-01  8.23e-01]\n",
            " [-2.76e-01  3.18e-01]\n",
            " [-3.55e-01 -7.68e-01]\n",
            " [-4.36e-01 -7.12e-01]\n",
            " [ 1.84e+00  2.81e+00]\n",
            " [-6.32e-01 -2.06e-01]\n",
            " [ 1.74e+00  1.84e+00]\n",
            " [-4.59e-01 -1.00e+00]\n",
            " [ 1.54e+00  2.13e+00]\n",
            " [-5.49e-01 -8.95e-01]\n",
            " [ 2.66e-01  6.54e-01]\n",
            " [-3.58e-01 -8.40e-02]\n",
            " [-5.99e-01 -6.99e-01]\n",
            " [-6.69e-01 -9.63e-01]\n",
            " [-7.85e-01 -9.35e-01]\n",
            " [-5.56e-01 -7.38e-01]\n",
            " [-5.27e-01 -2.06e-01]\n",
            " [ 1.06e+00 -2.49e-17]\n",
            " [-5.19e-01  4.99e-02]\n",
            " [-3.56e-01 -8.02e-01]\n",
            " [-2.84e-01  5.92e-02]\n",
            " [ 2.68e+00  2.82e+00]\n",
            " [-4.91e-01 -5.40e-01]\n",
            " [-3.76e-01 -9.82e-02]\n",
            " [-5.99e-01 -2.54e-01]\n",
            " [ 4.37e-01  3.37e-01]\n",
            " [-5.74e-01 -9.62e-01]\n",
            " [-4.41e-01 -4.08e-01]\n",
            " [-5.57e-01 -7.61e-01]\n",
            " [-5.30e-01 -4.30e-01]\n",
            " [-5.16e-01 -9.30e-01]\n",
            " [-4.60e-01  1.52e+00]\n",
            " [-5.21e-01 -9.34e-01]\n",
            " [-4.83e-01  6.20e-01]\n",
            " [ 5.05e-01  9.57e-01]\n",
            " [-4.35e-01  4.56e-01]\n",
            " [-4.81e-01 -3.91e-01]\n",
            " [-4.79e-01  4.08e-01]\n",
            " [-3.30e-01  7.65e-02]\n",
            " [-4.62e-01 -1.92e-01]\n",
            " [-5.82e-01 -2.49e-17]\n",
            " [-7.29e-01 -9.44e-02]\n",
            " [-3.25e-01 -2.25e-01]\n",
            " [-6.15e-01 -8.58e-01]\n",
            " [-5.15e-01 -8.70e-01]\n",
            " [ 1.93e+00  1.76e+00]\n",
            " [ 1.13e+00  7.48e-01]\n",
            " [-8.40e-01 -9.64e-01]\n",
            " [ 2.63e+00  2.91e+00]\n",
            " [-3.70e-01 -4.19e-01]\n",
            " [-5.85e-01 -5.24e-01]\n",
            " [-4.69e-01 -4.17e-01]\n",
            " [ 2.37e+00  2.22e+00]\n",
            " [ 2.55e+00  2.45e+00]\n",
            " [ 2.66e+00  2.56e+00]\n",
            " [-5.19e-01 -9.21e-01]\n",
            " [-5.87e-01 -6.66e-01]]\n"
          ]
        }
      ]
    },
    {
      "cell_type": "code",
      "source": [
        "# Evaluating the Model Performance\n",
        "from sklearn.metrics import r2_score\n",
        "r2_score(y_test, y_pred)"
      ],
      "metadata": {
        "colab": {
          "base_uri": "https://localhost:8080/"
        },
        "id": "XfDbsSsKLUDz",
        "outputId": "eb7321c1-ba7f-4c6e-c862-cc5bc047dd35"
      },
      "execution_count": 112,
      "outputs": [
        {
          "output_type": "execute_result",
          "data": {
            "text/plain": [
              "0.7607551627297912"
            ]
          },
          "metadata": {},
          "execution_count": 112
        }
      ]
    }
  ]
}